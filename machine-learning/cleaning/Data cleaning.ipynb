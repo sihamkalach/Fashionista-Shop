{
 "cells": [
  {
   "cell_type": "code",
   "execution_count": 1,
   "id": "fa4ab650-3f97-4589-9c88-51743a0b93ba",
   "metadata": {},
   "outputs": [
    {
     "name": "stdout",
     "output_type": "stream",
     "text": [
      "Data cleaning and preprocessing complete. Cleaned data saved to products.json\n"
     ]
    }
   ],
   "source": [
    "import json\n",
    "import string\n",
    "from nltk.corpus import stopwords\n",
    "from nltk.tokenize import word_tokenize\n",
    "import pandas as pd\n",
    "# Ensure you download the NLTK stopwords dataset if you haven't already\n",
    "# Uncomment the line below for the first run\n",
    "#import nltk\n",
    "#nltk.download('stopwords')\n",
    "#nltk.download('punkt')\n",
    "\n",
    "# Read the data from products.json\n",
    "with open('../scrapping/products.json', 'r') as f: \n",
    "    products = json.load(f)\n",
    "\n",
    "# Define stop words\n",
    "stop_words = set(stopwords.words(\"english\"))\n",
    "\n",
    "# Function to preprocess text\n",
    "def preprocess_text(text):\n",
    "    # Lowercasing\n",
    "    text = text.lower()\n",
    "    # Removing punctuation and numbers\n",
    "    text = ''.join(char for char in text if char.isalpha() or char.isspace())\n",
    "    # Tokenize and remove stop words\n",
    "    tokens = word_tokenize(text)\n",
    "    tokens = [word for word in tokens if word not in stop_words]\n",
    "    # Join tokens back into a single string\n",
    "    return ' '.join(tokens)\n",
    "\n",
    "# Function to limit title to 3 words\n",
    "def limit_title_to_three_words(title):\n",
    "    words = title.split()  # Split title into words\n",
    "    return ' '.join(words[:3])  # Join the first 3 words\n",
    "\n",
    "# Process and clean the data\n",
    "cleaned_products = []\n",
    "for product in products:\n",
    "    # Fix the price format (remove double dots)\n",
    "    if \"price\" in product and \"..\" in product[\"price\"]:\n",
    "        product[\"price\"] = product[\"price\"].replace(\"..\", \".\")\n",
    "    \n",
    "    # Fix the rating format (extract only the number)\n",
    "    if \"rating\" in product and \" out of 5 stars\" in product[\"rating\"]:\n",
    "        product[\"rating\"] = product[\"rating\"].split(\" \")[0]\n",
    "    \n",
    "    # Remove products with rating = \"N/A\"\n",
    "    if product.get(\"rating\") == \"N/A\":\n",
    "        continue\n",
    "    \n",
    "    # Remove products with price = \"N/A\"\n",
    "    if product.get(\"price\") == \"N/A\":\n",
    "        continue\n",
    "    \n",
    "    # Preprocess the description\n",
    "    if \"description\" in product:\n",
    "        product[\"description\"] = preprocess_text(product[\"description\"])\n",
    "    \n",
    "    # Limit the title to 3 words\n",
    "    if \"title\" in product:\n",
    "        product[\"title\"] = limit_title_to_three_words(product[\"title\"])\n",
    "    \n",
    "    # Add the cleaned product to the list\n",
    "    cleaned_products.append(product)\n",
    "\n",
    "# Convert cleaned products back to DataFrame\n",
    "df = pd.DataFrame(cleaned_products)\n",
    "\n",
    "# Combine 'category' and 'description' into one feature (if both exist)\n",
    "if 'category' in df.columns and 'description' in df.columns:\n",
    "    df['combined'] = df['category'] + \" \" + df['description']\n",
    "\n",
    "# Save the cleaned data to a new JSON file\n",
    "with open(\"products.json\", \"w\", encoding=\"utf-8\") as json_file:\n",
    "    json.dump(cleaned_products, json_file, ensure_ascii=False, indent=4)\n",
    "\n",
    "print(\"Data cleaning and preprocessing complete. Cleaned data saved to products.json\")\n"
   ]
  },
  {
   "cell_type": "code",
   "execution_count": null,
   "id": "336a960f-0bb8-4273-9eb2-a1811863b69c",
   "metadata": {},
   "outputs": [],
   "source": []
  }
 ],
 "metadata": {
  "kernelspec": {
   "display_name": "Python 3 (ipykernel)",
   "language": "python",
   "name": "python3"
  },
  "language_info": {
   "codemirror_mode": {
    "name": "ipython",
    "version": 3
   },
   "file_extension": ".py",
   "mimetype": "text/x-python",
   "name": "python",
   "nbconvert_exporter": "python",
   "pygments_lexer": "ipython3",
   "version": "3.12.2"
  }
 },
 "nbformat": 4,
 "nbformat_minor": 5
}
