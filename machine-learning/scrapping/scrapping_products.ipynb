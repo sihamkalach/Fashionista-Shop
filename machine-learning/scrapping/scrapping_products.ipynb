{
 "cells": [
  {
   "cell_type": "code",
   "execution_count": 1,
   "id": "8a1238be-2538-488f-bdb5-3db9b460ceb1",
   "metadata": {},
   "outputs": [
    {
     "name": "stdout",
     "output_type": "stream",
     "text": [
      "5\n"
     ]
    }
   ],
   "source": [
    "print(5)"
   ]
  },
  {
   "cell_type": "code",
   "execution_count": 2,
   "id": "ddaf0b04-c173-4f64-9a20-a8d57d5c43d0",
   "metadata": {},
   "outputs": [
    {
     "name": "stdout",
     "output_type": "stream",
     "text": [
      "Scraping complete. Data saved to products.json\n"
     ]
    }
   ],
   "source": [
    "import requests\n",
    "from bs4 import BeautifulSoup\n",
    "import json  # Import the JSON module\n",
    "categories_to_search = ['beauty','womens+bags',\n",
    "                        'fragrances','skin+care',\n",
    "                        'sunglasses','womens+dresses',\n",
    "                        'womens+jewellery',\n",
    "                        'womens+shoes','womens+watches']\n",
    "products = []\n",
    "item = 1\n",
    "for category in categories_to_search :\n",
    "    \n",
    "    # Amazon URL for beauty products\n",
    "    URL = f\"https://www.amazon.com/s?k={category}+products\"\n",
    "    \n",
    "    # Headers to mimic a browser request\n",
    "    HEADERS = {\n",
    "        \"User-Agent\": \"Mozilla/5.0 (Windows NT 10.0; Win64; x64) AppleWebKit/537.36 (KHTML, like Gecko) Chrome/91.0.4472.124 Safari/537.36\",\n",
    "        \"Accept-Language\": \"en-US,en;q=0.9\",\n",
    "    }\n",
    "\n",
    "    # Send the request\n",
    "    response = requests.get(URL, headers=HEADERS)\n",
    "    soup = BeautifulSoup(response.content, \"html.parser\")\n",
    "\n",
    "    # Extract product details\n",
    "    \n",
    "    for product in soup.find_all(\"div\", {\"data-component-type\": \"s-search-result\"}):\n",
    "        try:\n",
    "            # Title\n",
    "            title = product.h2.text.strip() if product.h2 else \"N/A\"\n",
    "            \n",
    "            # Description (Amazon often has limited inline description)\n",
    "            description_tag = product.find(\"img\", class_=\"s-image\")\n",
    "            description = description_tag[\"alt\"] if description_tag else \"N/A\"\n",
    "            \n",
    "            # Price\n",
    "            price_whole = product.find(\"span\", class_=\"a-price-whole\")\n",
    "            price_fraction = product.find(\"span\", class_=\"a-price-fraction\")\n",
    "            if price_whole and price_fraction:\n",
    "                price = f\"{price_whole.text.strip()}.{price_fraction.text.strip()}\"\n",
    "            else:\n",
    "                price = \"N/A\"\n",
    "            \n",
    "            # Rating\n",
    "            rating_tag = product.find(\"span\", class_=\"a-icon-alt\")\n",
    "            rating = rating_tag.text.strip() if rating_tag else \"N/A\"\n",
    "            \n",
    "            # Stock (Amazon often doesn't display this on the search results)\n",
    "            stock = \"Available\" if product.find(\"span\", {\"class\": \"a-color-price\"}) else \"UnAvailable\"\n",
    "            \n",
    "            # Image\n",
    "            image_tag = product.find(\"img\", class_=\"s-image\")\n",
    "            image_url = image_tag[\"src\"] if image_tag else \"N/A\"\n",
    "            \n",
    "            # Append to the products list\n",
    "            products.append({\n",
    "                \"id\":item,\n",
    "                \"title\": title,\n",
    "                \"description\": description,\n",
    "                \"category\":category,\n",
    "                \"price\": price,\n",
    "                \"rating\": rating,\n",
    "                \"stock\": stock,\n",
    "                \"image\": image_url,\n",
    "                \"reviews\":[]\n",
    "            })\n",
    "            item = item + 1\n",
    "        except Exception as e:\n",
    "            print(f\"Error extracting product: {e}\")\n",
    "    \n",
    "    # Save to a JSON file\n",
    "with open(\"products.json\", \"w\", encoding=\"utf-8\") as json_file:\n",
    "    json.dump(products, json_file, ensure_ascii=False, indent=4)\n",
    "\n",
    "print(\"Scraping complete. Data saved to products.json\")\n"
   ]
  },
  {
   "cell_type": "code",
   "execution_count": null,
   "id": "77bd33f1-5023-4dc5-92a6-c8063a584151",
   "metadata": {},
   "outputs": [],
   "source": []
  }
 ],
 "metadata": {
  "kernelspec": {
   "display_name": "Python 3 (ipykernel)",
   "language": "python",
   "name": "python3"
  },
  "language_info": {
   "codemirror_mode": {
    "name": "ipython",
    "version": 3
   },
   "file_extension": ".py",
   "mimetype": "text/x-python",
   "name": "python",
   "nbconvert_exporter": "python",
   "pygments_lexer": "ipython3",
   "version": "3.12.2"
  }
 },
 "nbformat": 4,
 "nbformat_minor": 5
}
