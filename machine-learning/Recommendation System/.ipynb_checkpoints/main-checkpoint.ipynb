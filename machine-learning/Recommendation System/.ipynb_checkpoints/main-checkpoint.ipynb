{
 "cells": [
  {
   "cell_type": "code",
   "execution_count": 40,
   "id": "317607b3-6811-44b8-a8fb-3f27a6b0d5d5",
   "metadata": {},
   "outputs": [
    {
     "name": "stdout",
     "output_type": "stream",
     "text": [
      "Silhouette Score (DBSCAN): -0.00032322570185650175\n",
      "Recommended Products based on your search (DBSCAN):\n",
      "                                                 title category\n",
      "147  Cuccio Naturale Revitalizing- Hydrating Oil Fo...    nails\n"
     ]
    }
   ],
   "source": [
    "# --- DBSCAN Clustering ---\n",
    "# Step 5: Apply DBSCAN clustering\n",
    "dbscan = DBSCAN(eps=0.5, min_samples=5, metric='cosine')\n",
    "dbscan_labels = dbscan.fit_predict(X)  # Fit the model and predict cluster labels\n",
    "\n",
    "# Step 6: Assign cluster labels to the products\n",
    "products['cluster_dbscan'] = dbscan_labels  # -1 indicates outliers/noise\n",
    "\n",
    "# Step 7: Evaluate clustering with silhouette score\n",
    "silhouette_avg_dbscan = silhouette_score(X, dbscan_labels)  # Silhouette score may not be as useful with DBSCAN due to noise\n",
    "print(f\"Silhouette Score (DBSCAN): {silhouette_avg_dbscan}\")\n",
    "# Step 8: Find the most similar cluster using DBSCAN (ignoring noise/outliers with -1)\n",
    "search_similarities_dbscan = cosine_similarity(search_vector, X)  # Compare the search term to all product vectors\n",
    "most_similar_product_dbscan = np.argmax(search_similarities_dbscan)  # Get the index of the most similar product\n",
    "\n",
    "# Step 9: Get recommended products\n",
    "recommended_products_dbscan = products.iloc[[most_similar_product_dbscan]].head(5)  # Recommend the most similar product (top 1)\n",
    "\n",
    "# Step 10: Display the recommended products (DBSCAN)\n",
    "print(\"Recommended Products based on your search (DBSCAN):\")\n",
    "print(recommended_products_dbscan[['title', 'category']])\n"
   ]
  },
  {
   "cell_type": "code",
   "execution_count": 42,
   "id": "beeae515-b090-4942-9107-b4095a9b5425",
   "metadata": {},
   "outputs": [
    {
     "name": "stdout",
     "output_type": "stream",
     "text": [
      "Silhouette Score (GMM): 0.07723909777047208\n",
      "Recommended Products based on your search (GMM):\n",
      "                                                 title category  \\\n",
      "147  Cuccio Naturale Revitalizing- Hydrating Oil Fo...    nails   \n",
      "\n",
      "                                           description  \n",
      "147  cuccio naturale revitalizing hydrating oil rep...  \n"
     ]
    }
   ],
   "source": [
    "# --- Gaussian Mixture Models (GMM) ---\n",
    "# Step 5: Apply Gaussian Mixture Model clustering\n",
    "n_components = 10  # Choose the number of clusters\n",
    "gmm = GaussianMixture(n_components=n_components, random_state=42)\n",
    "gmm_labels = gmm.fit_predict(X.toarray())  # GMM needs the data in dense format\n",
    "\n",
    "# Step 6: Assign cluster labels to the products\n",
    "products['cluster_gmm'] = gmm_labels\n",
    "\n",
    "# Step 7: Evaluate clustering with silhouette score\n",
    "silhouette_avg_gmm = silhouette_score(X, gmm_labels)  # Silhouette score to evaluate GMM clustering\n",
    "print(f\"Silhouette Score (GMM): {silhouette_avg_gmm}\")\n",
    "\n",
    "# Step 8: Find the most similar cluster using GMM\n",
    "search_similarities_gmm = cosine_similarity(search_vector, X)  # Compare the search term to all product vectors\n",
    "most_similar_product_gmm = np.argmax(search_similarities_gmm)  # Get the index of the most similar product\n",
    "\n",
    "# Step 9: Get recommended products from GMM clustering\n",
    "recommended_products_gmm = products.iloc[[most_similar_product_gmm]].head(5)  # Recommend top 1 product\n",
    "\n",
    "# Step 10: Display the recommended products (GMM)\n",
    "print(\"Recommended Products based on your search (GMM):\")\n",
    "print(recommended_products_gmm[['title', 'category', 'description']])"
   ]
  },
  {
   "cell_type": "code",
   "execution_count": 43,
   "id": "6fd6cb76-a31a-4b03-a947-185512832596",
   "metadata": {},
   "outputs": [
    {
     "name": "stdout",
     "output_type": "stream",
     "text": [
      "Silhouette Score (KMeans): 0.07723054160800924\n",
      "Silhouette Score (DBSCAN): -0.00032322570185650175\n",
      "Silhouette Score (GMM): 0.07723909777047208\n",
      "Number of clusters (KMeans): 10\n",
      "Number of clusters (DBSCAN): 9\n",
      "Number of clusters (GMM): 10\n"
     ]
    }
   ],
   "source": [
    "print(f\"Silhouette Score (KMeans): {silhouette_avg}\")\n",
    "print(f\"Silhouette Score (DBSCAN): {silhouette_avg_dbscan}\")\n",
    "print(f\"Silhouette Score (GMM): {silhouette_avg_gmm}\")\n",
    "\n",
    "# You can also display the cluster count for each algorithm\n",
    "print(f\"Number of clusters (KMeans): {n_clusters}\")\n",
    "print(f\"Number of clusters (DBSCAN): {len(set(dbscan_labels)) - (1 if -1 in dbscan_labels else 0)}\")\n",
    "print(f\"Number of clusters (GMM): {n_components}\")"
   ]
  },
  {
   "cell_type": "code",
   "execution_count": null,
   "id": "fcf5609c-595a-44c0-922e-22722db28db3",
   "metadata": {},
   "outputs": [],
   "source": []
  }
 ],
 "metadata": {
  "kernelspec": {
   "display_name": "Python 3 (ipykernel)",
   "language": "python",
   "name": "python3"
  },
  "language_info": {
   "codemirror_mode": {
    "name": "ipython",
    "version": 3
   },
   "file_extension": ".py",
   "mimetype": "text/x-python",
   "name": "python",
   "nbconvert_exporter": "python",
   "pygments_lexer": "ipython3",
   "version": "3.12.2"
  }
 },
 "nbformat": 4,
 "nbformat_minor": 5
}
